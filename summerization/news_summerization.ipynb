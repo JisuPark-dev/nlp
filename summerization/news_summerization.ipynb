{
 "cells": [
  {
   "attachments": {},
   "cell_type": "markdown",
   "metadata": {},
   "source": [
    "<h1>기사 크롤링으로 가져오기 & 파일로 저장</h1>"
   ]
  },
  {
   "cell_type": "code",
   "execution_count": 23,
   "metadata": {},
   "outputs": [
    {
     "data": {
      "text/plain": [
       "[('한상헌',\n",
       "  '2023.01.25',\n",
       "  '\\n이투스, 지난해 수능 탐구 영역 분석사탐 높은 난도 탓에 과탐 수험생들인문계열에 지원할 경우 ‘부담’“탐구영역 단순암기는 고득점 어려워”\\n\\n\\n\\n 2022 2023학년도 사회탐구 만점 비율과 1∙2등급 원점수 누적 비율 비교<자료=이투스 교육평가연구소>이번 2023학년도 수능에서는 사회탐구의 변별력이 높아져 ‘탐구영역’이 정시 지원의 변수로 작용한 것으로 나타났다.25일 이투스 교육평가연구소에 따르면 이번 수능에선 국어·수학 못지않게 사회탐구의 난이도도 높았던 것으로 파악됐다.이번 수능에서 경제, 생활과 윤리, 윤리와 사상, 정치와 법, 사회문화 등의 과목의 만점자 비율은 1%가 되지 않았다.2022학년도 수능에서는 사탐 9개 과목 중 6개 과목의 1등급컷이 만점인 50점이었고, 원점수로 만점을 받았음에도 불구하고 백분위 점수로 환산했을 때 97점을 받은 과목은 세계지리 등 5과목이었다.이에 따라 한 문제라도 틀리게 되면 백분위 점수가 크게 하락해 정시 지원시 많은 어려움이 있었다.2023학년도 수능에서는 대부분 과목에서 만점자 비율이 대폭 하락하며 구조 자체가 변했다. 1등급컷이 만점인 과목도 6개에서 동아시아사 1개 과목으로 줄었다.1~2문제 차이로 등급·백분위가 하락하거나, 백분위 중간이 사라지는 현상도 발생하지 않아 밀집된 구조를 보였다.특히 사회문화의 경우 만점부터 47점까지는 백분위 기준으로 100점, 46점과 45점은 백분위 기준으로 99점으로 나와 사탐 영역에서는 좀처럼 볼 수 없는 사례가 나오기도 했다.이 때문에 2022학년도와 달리 정시 지원에서 과학탐구 응시자들이 인문계열에 지원할 때 유리함이 줄어들어 심적 부담이 크게 작용했을 것으로 판단된다.\\n\\n\\n\\n 2022 2023학년도 과학탐구 만점 비율과 1∙2등급 원점수 누적 비율 비교<자료=이투스 교육평가연구소>2023학년도 수능 과학탐구는 전년도와 비교해 화학Ⅰ의 체감 난이도 차이가 컸다.만점자 비율은 크게 차이가 나지 않았지만, 2등급 컷은 전년도와 비교해 5점 하락했다.전반적으로는 전년도 난이도가 그대로 유지된 시험이라고 평가할 수 있다.서울대는 2024학년도부터 과탐Ⅱ 필수 응시 조항을 폐지하고, ‘Ⅰ+Ⅰ 조합’ 지원을 허용하는 대신 Ⅱ과목 선택자에게는 3%의 가산점을 부여한다.일부 모집단위에서는 물리·화학 중 한 과목을 필수 응시로 지정하고 있어 서울대 지원을 목표로 하는 최상위권 수험생들은 자신이 지원하려는 학과의 모집요강을 반드시 확인해야 한다.이투스 교육평가연구소는 최근 기조로 볼 때 탐구영역은 철저한 내신 대비를 통해 다져진 학습적 기반이 성적에 많은 영향을 미친다고 분석한다.한 번 더 수능에 도전하려는 ‘N수생’이 늘면서 탐구영역의 최상위권 경쟁은 앞으로 계속 치열해질 것으로 예상된다.연구소는 수능을 출제하는 평가원도 이러한 점을 반영해 킬러 문항이 아닌 문항에서 시간을 들이게 해 전반적인 난도를 높이고 있으므로 킬러 문항에만 집중하는 학습은 바람직하지 않다고 판단한다.그보다는 쉬운 문제나, 기본적이라고 생각하는 문제부터 빠르게 풀 수 있도록 연습하는 것이 훨씬 중요하다고 보고 있다.김병진 이투스 교육평가연구소장은 “단순 암기나 기계적인 문제 풀이로 해결할 수 없는 것으로, 문제를 꼼꼼히 살피고 머릿속의 개념을 문제에 적용하는 훈련을 반복해야 한다”며 “특히 원점수 1점이 백분위에서는 5~6점 이상의 차이를 만드는 만큼 1점도 놓치지 않으려는 철저한 마음 가짐으로 수능을 준비해야 한다”고 밝혔다.\\n')]"
      ]
     },
     "execution_count": 23,
     "metadata": {},
     "output_type": "execute_result"
    }
   ],
   "source": [
    "##gpt추천인데 제대로 작동 안하노 ;;가 아니고 제대로 작동하노!!!!!\n",
    "import requests\n",
    "from bs4 import BeautifulSoup\n",
    "\n",
    "headers = {\"user-agent\": \"Mozilla/5.0 (Macintosh; Intel Mac OS X 10_15_7) AppleWebKit/537.36 (KHTML, like Gecko) Chrome/108.0.0.0 Safari/537.36\"}\n",
    "\n",
    "url = \"https://n.news.naver.com/article/009/0005078872?sid=102\"\n",
    "\n",
    "res = requests.get(url, headers=headers)\n",
    "soup = BeautifulSoup(res.content, \"html.parser\")\n",
    "\n",
    "# 본문 크롤링\n",
    "date_time = soup.select_one(\".media_end_head_info_datestamp_time\")\n",
    "reporter = soup.select_one(\".media_end_head_journalist_name\")\n",
    "article = soup.select_one(\"#dic_area\")\n",
    "\n",
    "reporter = reporter.text[:3]\n",
    "date_time = date_time.text[:10]\n",
    "article = article.text\n",
    "data = [(reporter, date_time, article)]\n",
    "data\n",
    "    "
   ]
  },
  {
   "cell_type": "code",
   "execution_count": 24,
   "metadata": {},
   "outputs": [],
   "source": [
    "import pandas as pd\n",
    "\n",
    "col = [\"작성자\",\"날짜\",\"본문내용\"]\n",
    "\n",
    "data_frame=pd.DataFrame(data,columns=col)\n",
    "data_frame.to_csv(\"news_crawling.csv\",mode='w',index = False)"
   ]
  },
  {
   "attachments": {},
   "cell_type": "markdown",
   "metadata": {},
   "source": [
    "<h1>데이터 불러오기</h1>"
   ]
  },
  {
   "cell_type": "code",
   "execution_count": 25,
   "metadata": {},
   "outputs": [],
   "source": [
    "#데이터 불러오기\n",
    "dataset = pd.read_csv(\"news_crawling.csv\")\n",
    "content = dataset[\"본문내용\"]\n",
    "\n",
    "content = content[0]\n",
    "# print(content)\n"
   ]
  },
  {
   "attachments": {},
   "cell_type": "markdown",
   "metadata": {},
   "source": [
    "<h1>불러온 데이터 요약하기</h1>"
   ]
  },
  {
   "cell_type": "code",
   "execution_count": 26,
   "metadata": {},
   "outputs": [
    {
     "name": "stderr",
     "output_type": "stream",
     "text": [
      "[nltk_data] Downloading package punkt to /Users/sudong/nltk_data...\n",
      "[nltk_data]   Package punkt is already up-to-date!\n"
     ]
    },
    {
     "name": "stdout",
     "output_type": "stream",
     "text": [
      "RESULT >> 2023학년도 수능에서는 사회탐구의 변별력이 높아져 탐구영역이 정시 지원의 변수로 작용했다.\n"
     ]
    }
   ],
   "source": [
    "import nltk\n",
    "nltk.download('punkt')\n",
    "from transformers import AutoTokenizer, AutoModelForSeq2SeqLM\n",
    "\n",
    "model = AutoModelForSeq2SeqLM.from_pretrained('eenzeenee/t5-base-korean-summarization')\n",
    "tokenizer = AutoTokenizer.from_pretrained('eenzeenee/t5-base-korean-summarization')\n",
    "\n",
    "prefix = \"summarize: \"\n",
    "sample = content\n",
    "\n",
    "inputs = [prefix + sample]\n",
    "\n",
    "\n",
    "inputs = tokenizer(inputs, max_length=512, truncation=True, return_tensors=\"pt\")\n",
    "output = model.generate(**inputs, num_beams=3, do_sample=True, min_length=10, max_length=100)\n",
    "decoded_output = tokenizer.batch_decode(output, skip_special_tokens=True)[0]\n",
    "result = nltk.sent_tokenize(decoded_output.strip())[0]\n",
    "\n",
    "print('RESULT >>', result)"
   ]
  }
 ],
 "metadata": {
  "kernelspec": {
   "display_name": "base",
   "language": "python",
   "name": "python3"
  },
  "language_info": {
   "codemirror_mode": {
    "name": "ipython",
    "version": 3
   },
   "file_extension": ".py",
   "mimetype": "text/x-python",
   "name": "python",
   "nbconvert_exporter": "python",
   "pygments_lexer": "ipython3",
   "version": "3.9.13"
  },
  "orig_nbformat": 4,
  "vscode": {
   "interpreter": {
    "hash": "a9f2f239dbdf7dcbbf5dad6def6d7b60261021210a86d8e005bea5e3adb77433"
   }
  }
 },
 "nbformat": 4,
 "nbformat_minor": 2
}
