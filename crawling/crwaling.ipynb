{
 "cells": [
  {
   "attachments": {},
   "cell_type": "markdown",
   "metadata": {},
   "source": [
    "<h1>웹 크롤링</h1>"
   ]
  },
  {
   "cell_type": "code",
   "execution_count": 4,
   "metadata": {},
   "outputs": [],
   "source": [
    "import selenium\n",
    "from selenium import webdriver\n",
    "from selenium.webdriver import ActionChains\n",
    "from selenium.webdriver.common.keys import Keys\n",
    "from selenium.webdriver.common.by import By\n",
    "from selenium.webdriver.support import expected_conditions as EC\n",
    "from selenium.webdriver.support.ui import Select\n",
    "from selenium.webdriver.support.ui import WebDriverWait\n",
    "\n",
    "import time\n",
    "\n",
    "import pandas as pd\n",
    "from selenium.webdriver.common.by import By"
   ]
  },
  {
   "cell_type": "code",
   "execution_count": 5,
   "metadata": {},
   "outputs": [],
   "source": [
    "def get_data(url):\n",
    "    #웹 드라이버\n",
    "    driver = webdriver.Chrome(executable_path='chromedriver')\n",
    "    driver.implicitly_wait(5)\n",
    "    driver.get(url)\n",
    "    while True:\n",
    "        try:\n",
    "            더보기 = driver.find_element(By.CSS_SELECTOR,'a.u_cbox_btn_more')\n",
    "            더보기.click()\n",
    "            time.sleep(1)\n",
    "        except:\n",
    "            break\n",
    "    print(\"끝\")\n",
    "    \n",
    "    contents = driver.find_elements(By.CSS_SELECTOR,'span.u_cbox_contents')\n",
    "    \n",
    "    contents = [content.text for content in contents]\n",
    "    #작성자 추출\n",
    "    nicks = driver.find_elements(By.CSS_SELECTOR,'span.u_cbox_nick')\n",
    "    \n",
    "    nicks = [nick.text for nick in nicks]\n",
    "    #날짜 추출\n",
    "    dates = driver.find_elements(By.CSS_SELECTOR,'span.u_cbox_date')\n",
    "    \n",
    "    dates = [date.text for date in dates]\n",
    "\n",
    "    #취합\n",
    "    data = [data for data in list(zip(nicks,dates, contents))]\n",
    "    driver.quit()\n",
    "    return data"
   ]
  },
  {
   "cell_type": "code",
   "execution_count": 21,
   "metadata": {},
   "outputs": [
    {
     "name": "stdout",
     "output_type": "stream",
     "text": [
      "끝\n"
     ]
    }
   ],
   "source": [
    "if __name__ == '__main__':\n",
    "    url = \"https://news.naver.com/main/read.nhn?m_view=1&includeAllCount=true&mode=LSD&mid=shm&sid1=100&oid=422&aid=0000430957\"\n",
    "    data = get_data(url)\n",
    "    # print(data)"
   ]
  },
  {
   "cell_type": "code",
   "execution_count": null,
   "metadata": {},
   "outputs": [
    {
     "data": {
      "text/plain": [
       "[('kwgs****',\n",
       "  '2020.06.02. 14:18',\n",
       "  '국회의원 말도 안됩니다.퇴출시켜야 합니다.모든 국민의 생각입니다.민주당은 누구를 대변하는겁니까?'),\n",
       " ('clse****', '2020.05.30. 21:09', '난 민주당 찍었지만 윤미향은 퇴출이 맞다고 본다'),\n",
       " ('dlar****', '2020.05.30. 21:01', '윤미향 쉴드치는 민주당의원들도 같이 퇴출운동 해야한다.'),\n",
       " ('krtt****',\n",
       "  '2020.05.30. 23:21',\n",
       "  '기부금과 보조금을 횡령한 도둑년이 국회의원이라다 이게 더불어민주당의 수준이다 국민들은 저런 도둑년을 국회의원으로 뽑은적없다 반드시 퇴출시켜야한다'),\n",
       " ('cott****',\n",
       "  '2020.05.30. 20:26',\n",
       "  '30년동안 이용해먹다가 ㅡ 빨만큼 빨았으니까ㅡ이제 이용가치가 떨어지니 비례대포국개의원으로? ㅡ 정의연은 해체해라!~ 해 먹을꺼도없잔아? ㅡ 토착왜구라 몰아세우더니ㅡ 왜구의 과자맛은 못있었나 보구나?... 국민들이 나서야합니다. 나서서 윤미향이 사퇴시켜야됩니다~ 이런뇬이 뭔 일을 할까요? ㅡ 뻔하지않습니까? ㅡ 빨대 빠는것만 하겠지요!~')]"
      ]
     },
     "execution_count": 32,
     "metadata": {},
     "output_type": "execute_result"
    }
   ],
   "source": [
    "data[:5]"
   ]
  },
  {
   "cell_type": "code",
   "execution_count": null,
   "metadata": {},
   "outputs": [],
   "source": [
    "col = [\"작성자\",\"날짜\",\"댓글내용\"]\n",
    "data_frame=pd.DataFrame(data,columns=col)\n",
    "data_frame.to_csv(\"new_crawling.csv\",mode='w',index = False)"
   ]
  },
  {
   "attachments": {},
   "cell_type": "markdown",
   "metadata": {},
   "source": [
    "<h1>모델학습</h1>"
   ]
  },
  {
   "cell_type": "code",
   "execution_count": null,
   "metadata": {},
   "outputs": [],
   "source": []
  },
  {
   "attachments": {},
   "cell_type": "markdown",
   "metadata": {},
   "source": [
    "<h1>데이터 평가</h1>"
   ]
  },
  {
   "cell_type": "code",
   "execution_count": 6,
   "metadata": {},
   "outputs": [
    {
     "name": "stdout",
     "output_type": "stream",
     "text": [
      "댓글 갯수 :  433\n"
     ]
    }
   ],
   "source": [
    "#데이터 불러오기\n",
    "dataset = pd.read_csv(\"new_crawling.csv\", index_col=0)\n",
    "test = [test for test in dataset[\"댓글내용\"]]\n",
    "print(\"댓글 갯수 : \",len(dataset[\"댓글내용\"]))\n",
    "# test"
   ]
  },
  {
   "cell_type": "code",
   "execution_count": 7,
   "metadata": {},
   "outputs": [],
   "source": [
    "from transformers import AutoTokenizer, AutoModelForSequenceClassification\n",
    "MODEL_NAME = \"monologg/koelectra-base-finetuned-nsmc\"\n",
    "\n",
    "tokenizer = AutoTokenizer.from_pretrained(MODEL_NAME)\n",
    "\n",
    "model = AutoModelForSequenceClassification.from_pretrained(MODEL_NAME)"
   ]
  },
  {
   "cell_type": "code",
   "execution_count": 8,
   "metadata": {},
   "outputs": [],
   "source": [
    "from transformers import pipeline\n",
    "\n",
    "classifier = pipeline(\"sentiment-analysis\", model = model, tokenizer = tokenizer)"
   ]
  },
  {
   "cell_type": "code",
   "execution_count": 11,
   "metadata": {},
   "outputs": [],
   "source": [
    "# classifier를 통한 긍부정 평가 진행\n",
    "answer_data = [classifier(answer_data) for answer_data in test]\n",
    "# answer_data"
   ]
  },
  {
   "cell_type": "code",
   "execution_count": 12,
   "metadata": {},
   "outputs": [],
   "source": [
    "answer = [data for data in list(zip(test, answer_data))]"
   ]
  },
  {
   "cell_type": "code",
   "execution_count": 28,
   "metadata": {},
   "outputs": [],
   "source": [
    "#결과 csv파일 만들기.\n",
    "col = [\"댓글 내용\",\"긍부정 평가 결과\"]\n",
    "data_frame=pd.DataFrame(answer,columns=col)\n",
    "data_frame.to_csv(\"answer.csv\",mode='w',index = False)"
   ]
  },
  {
   "attachments": {},
   "cell_type": "markdown",
   "metadata": {},
   "source": [
    "<h1>Matplotlib을 활용한 산출 데이터 분석</h1>"
   ]
  },
  {
   "cell_type": "code",
   "execution_count": 13,
   "metadata": {},
   "outputs": [
    {
     "name": "stdout",
     "output_type": "stream",
     "text": [
      "106 327\n"
     ]
    }
   ],
   "source": [
    "answer[:5]\n",
    "\n",
    "len_positive = 0\n",
    "len_negative = 0\n",
    "neg_score = []\n",
    "pos_score = []\n",
    "for i in range(0, len(answer)):\n",
    "    if answer[i][1][0][\"label\"] == \"positive\":\n",
    "        len_positive+=1\n",
    "        pos_score.append(answer[i][1][0][\"score\"])\n",
    "    else:\n",
    "        len_negative+=1\n",
    "        neg_score.append(answer[i][1][0][\"score\"])\n",
    "print(len_positive, len_negative)\n",
    "\n"
   ]
  },
  {
   "cell_type": "code",
   "execution_count": 17,
   "metadata": {},
   "outputs": [
    {
     "data": {
      "image/png": "[encoded data removed]",
      "text/plain": [
       "<Figure size 640x480 with 1 Axes>"
      ]
     },
     "metadata": {},
     "output_type": "display_data"
    }
   ],
   "source": [
    "import matplotlib.pyplot as plt\n",
    "import numpy as np\n",
    "\n",
    "x = np.arange(2)\n",
    "name = ['positive', 'negative']\n",
    "values = [len_positive, len_negative]\n",
    "\n",
    "plt.bar(x, values)\n",
    "plt.xticks(x, name)\n",
    "\n",
    "plt.show()"
   ]
  },
  {
   "cell_type": "code",
   "execution_count": 14,
   "metadata": {},
   "outputs": [
    {
     "name": "stdout",
     "output_type": "stream",
     "text": [
      "0.9989240765571594\n",
      "0.5028631091117859\n",
      "0.9990354776382446\n",
      "0.5374609231948853\n"
     ]
    }
   ],
   "source": [
    "print(max(neg_score))\n",
    "print(min(neg_score))\n",
    "print(max(pos_score))\n",
    "print(min(pos_score))\n"
   ]
  },
  {
   "cell_type": "code",
   "execution_count": 25,
   "metadata": {},
   "outputs": [],
   "source": [
    "pos1 = 0\n",
    "pos2 = 0\n",
    "pos3 = 0\n",
    "pos4 = 0\n",
    "pos5 = 0\n",
    "\n",
    "for i in pos_score:\n",
    "    if i >0.5 and i<=0.6:\n",
    "        pos1+=1\n",
    "    if i >0.6 and i<=0.7:\n",
    "        pos2+=1\n",
    "    if i >0.7 and i<=0.8:\n",
    "        pos3+=1\n",
    "    if i >0.8 and i<=0.9:\n",
    "        pos4+=1\n",
    "    if i>0.9 and i<=1:\n",
    "        pos5+=1\n",
    "neg1 = 0\n",
    "neg2 = 0\n",
    "neg3 = 0\n",
    "neg4 = 0\n",
    "neg5 = 0\n",
    "\n",
    "for i in neg_score:\n",
    "    if i >0.5 and i<=0.6:\n",
    "        neg1+=1\n",
    "    if i >0.6 and i<=0.7:\n",
    "        neg2+=1\n",
    "    if i >0.7 and i<=0.8:\n",
    "        neg3+=1\n",
    "    if i >0.8 and i<=0.9:\n",
    "        neg4+=1\n",
    "    if i>0.9 and i<=1:\n",
    "        neg5+=1"
   ]
  },
  {
   "cell_type": "code",
   "execution_count": 22,
   "metadata": {},
   "outputs": [
    {
     "name": "stdout",
     "output_type": "stream",
     "text": [
      "11 14 14 18 49\n",
      "106\n"
     ]
    }
   ],
   "source": [
    "print(pos1,pos2,pos3,pos4,pos5)\n",
    "print(pos1+pos2+pos3+pos4+pos5)"
   ]
  },
  {
   "cell_type": "code",
   "execution_count": 23,
   "metadata": {},
   "outputs": [
    {
     "data": {
      "image/png": "[encoded data removed]",
      "text/plain": [
       "<Figure size 640x480 with 1 Axes>"
      ]
     },
     "metadata": {},
     "output_type": "display_data"
    }
   ],
   "source": [
    "x = np.arange(5)\n",
    "name = ['0.5~0.6', '0.6~0.7','0.7~0.8','0.8~0.9','0.9~1.0']\n",
    "values = [pos1,pos2,pos3,pos4,pos5]\n",
    "\n",
    "plt.bar(x, values)\n",
    "plt.xticks(x, name)\n",
    "\n",
    "plt.show()"
   ]
  },
  {
   "cell_type": "code",
   "execution_count": 26,
   "metadata": {},
   "outputs": [
    {
     "data": {
      "image/png": "[encoded data removed]",
      "text/plain": [
       "<Figure size 640x480 with 1 Axes>"
      ]
     },
     "metadata": {},
     "output_type": "display_data"
    }
   ],
   "source": [
    "x = np.arange(5)\n",
    "name = ['0.5~0.6', '0.6~0.7','0.7~0.8','0.8~0.9','0.9~1.0']\n",
    "values = [neg1,neg2,neg3,neg4,neg5]\n",
    "\n",
    "plt.bar(x, values)\n",
    "plt.xticks(x, name)\n",
    "\n",
    "plt.show()"
   ]
  },
  {
   "cell_type": "code",
   "execution_count": null,
   "metadata": {},
   "outputs": [],
   "source": []
  }
 ],
 "metadata": {
  "kernelspec": {
   "display_name": "Python 3",
   "language": "python",
   "name": "python3"
  },
  "language_info": {
   "codemirror_mode": {
    "name": "ipython",
    "version": 3
   },
   "file_extension": ".py",
   "mimetype": "text/x-python",
   "name": "python",
   "nbconvert_exporter": "python",
   "pygments_lexer": "ipython3",
   "version": "3.9.13"
  },
  "orig_nbformat": 4,
  "vscode": {
   "interpreter": {
    "hash": "b0fa6594d8f4cbf19f97940f81e996739fb7646882a419484c72d19e05852a7e"
   }
  }
 },
 "nbformat": 4,
 "nbformat_minor": 2
}
