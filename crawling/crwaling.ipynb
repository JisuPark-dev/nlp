{
 "cells": [
  {
   "attachments": {},
   "cell_type": "markdown",
   "metadata": {},
   "source": [
    "<h1>웹 크롤링</h1>"
   ]
  },
  {
   "cell_type": "code",
   "execution_count": null,
   "metadata": {},
   "outputs": [],
   "source": [
    "import selenium\n",
    "from selenium import webdriver\n",
    "from selenium.webdriver import ActionChains\n",
    "from selenium.webdriver.common.keys import Keys\n",
    "from selenium.webdriver.common.by import By\n",
    "from selenium.webdriver.support import expected_conditions as EC\n",
    "from selenium.webdriver.support.ui import Select\n",
    "from selenium.webdriver.support.ui import WebDriverWait\n",
    "\n",
    "import time\n",
    "\n",
    "import pandas as pd"
   ]
  },
  {
   "cell_type": "code",
   "execution_count": 30,
   "metadata": {},
   "outputs": [],
   "source": [
    "def get_data(url):\n",
    "    #웹 드라이버\n",
    "    driver = webdriver.Chrome(executable_path='chromedriver')\n",
    "    driver.implicitly_wait(5)\n",
    "    driver.get(url)\n",
    "    while True:\n",
    "        try:\n",
    "            더보기 = driver.find_element_by_css_selector('a.u_cbox_btn_more')\n",
    "            더보기.click()\n",
    "            time.sleep(1)\n",
    "        except:\n",
    "            break\n",
    "    print(\"끝\")\n",
    "    \n",
    "    contents = driver.find_elements_by_css_selector('span.u_cbox_contents')\n",
    "    # for content in contents:\n",
    "    #     print(content.text)\n",
    "    contents = [content.text for content in contents]\n",
    "    #작성자 추출\n",
    "    nicks = driver.find_elements_by_css_selector('span.u_cbox_nick')\n",
    "    # for nick in nicks:\n",
    "    #     print(nick.text)\n",
    "    nicks = [nick.text for nick in nicks]\n",
    "    #날짜 추출\n",
    "    dates = driver.find_elements_by_css_selector('span.u_cbox_date')\n",
    "    # for date in dates:\n",
    "    #     print(date.text)\n",
    "    dates = [date.text for date in dates]\n",
    "\n",
    "    #취합\n",
    "    data = [data for data in list(zip(nicks,dates, contents))]\n",
    "    driver.quit()\n",
    "    return data"
   ]
  },
  {
   "cell_type": "code",
   "execution_count": 31,
   "metadata": {},
   "outputs": [
    {
     "name": "stdout",
     "output_type": "stream",
     "text": [
      "huggingface/tokenizers: The current process just got forked, after parallelism has already been used. Disabling parallelism to avoid deadlocks...\n",
      "To disable this warning, you can either:\n",
      "\t- Avoid using `tokenizers` before the fork if possible\n",
      "\t- Explicitly set the environment variable TOKENIZERS_PARALLELISM=(true | false)\n",
      "끝\n"
     ]
    }
   ],
   "source": [
    "if __name__ == '__main__':\n",
    "    url = \"https://news.naver.com/main/read.nhn?m_view=1&includeAllCount=true&mode=LSD&mid=shm&sid1=100&oid=422&aid=0000430957\"\n",
    "    data = get_data(url)\n",
    "    # print(data)"
   ]
  },
  {
   "cell_type": "code",
   "execution_count": 32,
   "metadata": {},
   "outputs": [
    {
     "data": {
      "text/plain": [
       "[('kwgs****',\n",
       "  '2020.06.02. 14:18',\n",
       "  '국회의원 말도 안됩니다.퇴출시켜야 합니다.모든 국민의 생각입니다.민주당은 누구를 대변하는겁니까?'),\n",
       " ('clse****', '2020.05.30. 21:09', '난 민주당 찍었지만 윤미향은 퇴출이 맞다고 본다'),\n",
       " ('dlar****', '2020.05.30. 21:01', '윤미향 쉴드치는 민주당의원들도 같이 퇴출운동 해야한다.'),\n",
       " ('krtt****',\n",
       "  '2020.05.30. 23:21',\n",
       "  '기부금과 보조금을 횡령한 도둑년이 국회의원이라다 이게 더불어민주당의 수준이다 국민들은 저런 도둑년을 국회의원으로 뽑은적없다 반드시 퇴출시켜야한다'),\n",
       " ('cott****',\n",
       "  '2020.05.30. 20:26',\n",
       "  '30년동안 이용해먹다가 ㅡ 빨만큼 빨았으니까ㅡ이제 이용가치가 떨어지니 비례대포국개의원으로? ㅡ 정의연은 해체해라!~ 해 먹을꺼도없잔아? ㅡ 토착왜구라 몰아세우더니ㅡ 왜구의 과자맛은 못있었나 보구나?... 국민들이 나서야합니다. 나서서 윤미향이 사퇴시켜야됩니다~ 이런뇬이 뭔 일을 할까요? ㅡ 뻔하지않습니까? ㅡ 빨대 빠는것만 하겠지요!~')]"
      ]
     },
     "execution_count": 32,
     "metadata": {},
     "output_type": "execute_result"
    }
   ],
   "source": [
    "data[:5]"
   ]
  },
  {
   "cell_type": "code",
   "execution_count": 33,
   "metadata": {},
   "outputs": [],
   "source": [
    "col = [\"작성자\",\"날짜\",\"댓글내용\"]\n",
    "data_frame=pd.DataFrame(data,columns=col)\n",
    "data_frame.to_csv(\"new_crawling.csv\",mode='w',index = False)"
   ]
  },
  {
   "attachments": {},
   "cell_type": "markdown",
   "metadata": {},
   "source": [
    "<h1>모델학습</h1>"
   ]
  },
  {
   "cell_type": "code",
   "execution_count": null,
   "metadata": {},
   "outputs": [],
   "source": []
  },
  {
   "attachments": {},
   "cell_type": "markdown",
   "metadata": {},
   "source": [
    "<h1>데이터 평가</h1>"
   ]
  },
  {
   "cell_type": "code",
   "execution_count": 34,
   "metadata": {},
   "outputs": [
    {
     "name": "stdout",
     "output_type": "stream",
     "text": [
      "댓글 갯수 :  433\n"
     ]
    }
   ],
   "source": [
    "#데이터 불러오기\n",
    "dataset = pd.read_csv(\"new_crawling.csv\", index_col=0)\n",
    "test = [test for test in dataset[\"댓글내용\"]]\n",
    "print(\"댓글 갯수 : \",len(dataset[\"댓글내용\"]))\n",
    "# test"
   ]
  },
  {
   "cell_type": "code",
   "execution_count": 47,
   "metadata": {},
   "outputs": [
    {
     "data": {
      "application/vnd.jupyter.widget-view+json": {
       "model_id": "ad0bd33d78234afc9b62b42dd57c7c63",
       "version_major": 2,
       "version_minor": 0
      },
      "text/plain": [
       "Downloading:   0%|          | 0.00/563 [00:00<?, ?B/s]"
      ]
     },
     "metadata": {},
     "output_type": "display_data"
    },
    {
     "data": {
      "application/vnd.jupyter.widget-view+json": {
       "model_id": "a43926e6cff749fb8959e03505fa43a8",
       "version_major": 2,
       "version_minor": 0
      },
      "text/plain": [
       "Downloading:   0%|          | 0.00/248k [00:00<?, ?B/s]"
      ]
     },
     "metadata": {},
     "output_type": "display_data"
    },
    {
     "data": {
      "application/vnd.jupyter.widget-view+json": {
       "model_id": "172228b688d046dbb6ec39d48a3e541d",
       "version_major": 2,
       "version_minor": 0
      },
      "text/plain": [
       "Downloading:   0%|          | 0.00/752k [00:00<?, ?B/s]"
      ]
     },
     "metadata": {},
     "output_type": "display_data"
    },
    {
     "data": {
      "application/vnd.jupyter.widget-view+json": {
       "model_id": "04d2297e0a2648d9af0fa82b27571c25",
       "version_major": 2,
       "version_minor": 0
      },
      "text/plain": [
       "Downloading:   0%|          | 0.00/125 [00:00<?, ?B/s]"
      ]
     },
     "metadata": {},
     "output_type": "display_data"
    },
    {
     "data": {
      "application/vnd.jupyter.widget-view+json": {
       "model_id": "4f8f628c0a304ecfa5b2e7684420d6f1",
       "version_major": 2,
       "version_minor": 0
      },
      "text/plain": [
       "Downloading:   0%|          | 0.00/995 [00:00<?, ?B/s]"
      ]
     },
     "metadata": {},
     "output_type": "display_data"
    },
    {
     "data": {
      "application/vnd.jupyter.widget-view+json": {
       "model_id": "9dcded5d662e4c7db023429bcc476728",
       "version_major": 2,
       "version_minor": 0
      },
      "text/plain": [
       "Downloading:   0%|          | 0.00/443M [00:00<?, ?B/s]"
      ]
     },
     "metadata": {},
     "output_type": "display_data"
    }
   ],
   "source": [
    "from transformers import AutoTokenizer, AutoModelForSequenceClassification\n",
    "MODEL_NAME = \"jihoonkimharu/bert-base-klue-ynat-finetuned\"\n",
    "\n",
    "tokenizer = AutoTokenizer.from_pretrained(MODEL_NAME)\n",
    "\n",
    "model = AutoModelForSequenceClassification.from_pretrained(MODEL_NAME)"
   ]
  },
  {
   "cell_type": "code",
   "execution_count": 48,
   "metadata": {},
   "outputs": [],
   "source": [
    "from transformers import pipeline\n",
    "\n",
    "classifier = pipeline(\"sentiment-analysis\", model = model, tokenizer = tokenizer)"
   ]
  },
  {
   "cell_type": "code",
   "execution_count": 49,
   "metadata": {},
   "outputs": [],
   "source": [
    "# classifier를 통한 긍부정 평가 진행\n",
    "answer_data = [classifier(answer_data) for answer_data in test]\n",
    "# answer_data"
   ]
  },
  {
   "cell_type": "code",
   "execution_count": 50,
   "metadata": {},
   "outputs": [],
   "source": [
    "answer = [data for data in list(zip(test, answer_data))]"
   ]
  },
  {
   "cell_type": "code",
   "execution_count": 51,
   "metadata": {},
   "outputs": [],
   "source": [
    "#결과 csv파일 만들기.\n",
    "col = [\"댓글 내용\",\"긍부정 평가 결과\"]\n",
    "data_frame=pd.DataFrame(answer,columns=col)\n",
    "data_frame.to_csv(\"answer.csv\",mode='w',index = False)"
   ]
  },
  {
   "cell_type": "code",
   "execution_count": null,
   "metadata": {},
   "outputs": [],
   "source": []
  },
  {
   "cell_type": "code",
   "execution_count": null,
   "metadata": {},
   "outputs": [],
   "source": []
  },
  {
   "cell_type": "code",
   "execution_count": null,
   "metadata": {},
   "outputs": [],
   "source": []
  },
  {
   "cell_type": "code",
   "execution_count": 40,
   "metadata": {},
   "outputs": [],
   "source": [
    "# import collections\n",
    "# # collections.Counter(nicks) 키 벨류 쌍으로 묶어서 나타내줌.\n",
    "# print(collections.Counter(nicks).values())\n",
    "# print(len(collections.Counter(nicks).values()))"
   ]
  },
  {
   "cell_type": "code",
   "execution_count": 41,
   "metadata": {},
   "outputs": [],
   "source": [
    "#matplotlib으로도 시각화해보기\n",
    "# import matplotlib as plt\n",
    "# plt.hist(nicks)\n",
    "\n",
    "# plt.show()"
   ]
  }
 ],
 "metadata": {
  "kernelspec": {
   "display_name": "base",
   "language": "python",
   "name": "python3"
  },
  "language_info": {
   "codemirror_mode": {
    "name": "ipython",
    "version": 3
   },
   "file_extension": ".py",
   "mimetype": "text/x-python",
   "name": "python",
   "nbconvert_exporter": "python",
   "pygments_lexer": "ipython3",
   "version": "3.9.13 (main, Aug 25 2022, 18:29:29) \n[Clang 12.0.0 ]"
  },
  "orig_nbformat": 4,
  "vscode": {
   "interpreter": {
    "hash": "a9f2f239dbdf7dcbbf5dad6def6d7b60261021210a86d8e005bea5e3adb77433"
   }
  }
 },
 "nbformat": 4,
 "nbformat_minor": 2
}
