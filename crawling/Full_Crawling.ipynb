{
 "cells": [
  {
   "attachments": {},
   "cell_type": "markdown",
   "metadata": {},
   "source": [
    "<h1>웹 크롤링</h1>"
   ]
  },
  {
   "cell_type": "code",
   "execution_count": 7,
   "metadata": {},
   "outputs": [],
   "source": [
    "import selenium\n",
    "from selenium import webdriver\n",
    "from selenium.webdriver import ActionChains\n",
    "from selenium.webdriver.common.keys import Keys\n",
    "from selenium.webdriver.common.by import By\n",
    "from selenium.webdriver.support import expected_conditions as EC\n",
    "from selenium.webdriver.support.ui import Select\n",
    "from selenium.webdriver.support.ui import WebDriverWait\n",
    "\n",
    "import time\n",
    "\n",
    "import pandas as pd\n",
    "from selenium.webdriver.common.by import By"
   ]
  },
  {
   "cell_type": "code",
   "execution_count": 2,
   "metadata": {},
   "outputs": [],
   "source": [
    "def get_data(url):\n",
    "    #웹 드라이버\n",
    "    driver = webdriver.Chrome(executable_path='chromedriver')\n",
    "    driver.implicitly_wait(5)\n",
    "    driver.get(url)\n",
    "    while True:\n",
    "        try:\n",
    "            더보기 = driver.find_element(By.CSS_SELECTOR,'a.u_cbox_btn_more')\n",
    "            더보기.click()\n",
    "            time.sleep(1)\n",
    "        except:\n",
    "            break\n",
    "    print(\"끝\")\n",
    "    \n",
    "    contents = driver.find_elements(By.CSS_SELECTOR,'span.u_cbox_contents')\n",
    "    \n",
    "    contents = [content.text for content in contents]\n",
    "    #작성자 추출\n",
    "    nicks = driver.find_elements(By.CSS_SELECTOR,'span.u_cbox_nick')\n",
    "    \n",
    "    nicks = [nick.text for nick in nicks]\n",
    "    #날짜 추출\n",
    "    dates = driver.find_elements(By.CSS_SELECTOR,'span.u_cbox_date')\n",
    "    \n",
    "    dates = [date.text for date in dates]\n",
    "\n",
    "    #취합\n",
    "    data = [data for data in list(zip(nicks,dates, contents))]\n",
    "    driver.quit()\n",
    "    return data"
   ]
  },
  {
   "cell_type": "code",
   "execution_count": 3,
   "metadata": {},
   "outputs": [
    {
     "name": "stdout",
     "output_type": "stream",
     "text": [
      "끝\n"
     ]
    }
   ],
   "source": [
    "if __name__ == '__main__':\n",
    "    url = \"https://n.news.naver.com/article/comment/015/0004802786\" #크롤링 하고 싶은 웹페이지 주소 입력\n",
    "    data = get_data(url)\n",
    "    # print(data)"
   ]
  },
  {
   "cell_type": "code",
   "execution_count": 4,
   "metadata": {},
   "outputs": [
    {
     "data": {
      "text/plain": [
       "[('beul****',\n",
       "  '2023.01.25. 09:56',\n",
       "  '초딩도 아닌 유아에게 10번물어봤다고?? 난 또 전문가에게 10번 확인받았다는 얘긴 줄. 애들은 부모가 함께면 100미터 수심도 들어갈 수 있다 대답함. 판단은 성인인 부모몫이지. 무사히 하신했으니 다행인데 부모의 버킷리스트에 아이끼워넣진 말자'),\n",
       " ('yumc****', '2023.01.25. 09:54', '지기 모유로 비누 만들어 승리한테 준 사람인데 특이한 정신세계'),\n",
       " ('ccli****',\n",
       "  '2023.01.25. 08:39',\n",
       "  '작은애5살때 덕유산 곤돌라에서 내려 향적봉까지 600 미터정도 업고 가는것도 힘들고, 한라산백록담은 나혼자가는것도 힘들더만 ㅡ 대단하신 모친이시네요.'),\n",
       " ('into****',\n",
       "  '2023.01.25. 08:51',\n",
       "  '인스타그램이 이시영을 중독으로 빠져들게 한것 같다. 숫자 올라가는 중독은 무시 못하지요. 이 기사가 안나왔으면 이시영씨는 더 자극적이고, 더 난도있고, 갈 수록 협오스런 인증샷 등으로 점점 나락으로 떨어졌을듯. 이시영시 본인은 물론 그런줄 모르겠지만요. 마약과 같은 중독....! 이 참에 이시영씨 절제하고 맘을 조금 내려 놓으세요. 인스타 그게 돈 되겠죠?... 하지만 아이 까지 팔아서 인스타 숫자 오르는 기획은 아니라고봄.'),\n",
       " ('isab****',\n",
       "  '2023.01.25. 09:51',\n",
       "  '아들한테 10번 물어볼게 아니라 안전전문가의 의견을 들어보고 결정하셔야죠...')]"
      ]
     },
     "execution_count": 4,
     "metadata": {},
     "output_type": "execute_result"
    }
   ],
   "source": [
    "data[:5]"
   ]
  },
  {
   "cell_type": "code",
   "execution_count": 5,
   "metadata": {},
   "outputs": [],
   "source": [
    "#csv파일로 저장\n",
    "col = [\"작성자\",\"날짜\",\"댓글내용\"]\n",
    "data_frame=pd.DataFrame(data,columns=col)\n",
    "data_frame.to_csv(\"new_crawling.csv\",mode='w',index = False)"
   ]
  },
  {
   "attachments": {},
   "cell_type": "markdown",
   "metadata": {},
   "source": [
    "<h1>모델학습</h1>"
   ]
  },
  {
   "cell_type": "code",
   "execution_count": 1,
   "metadata": {},
   "outputs": [],
   "source": [
    "from datasets import load_dataset, load_metric\n",
    "from transformers import AutoTokenizer, DataCollatorWithPadding, AutoModelForSequenceClassification, AdamW, get_scheduler\n",
    "\n",
    "import torch\n",
    "from torch.utils.data import DataLoader\n",
    "\n",
    "from tqdm.auto import tqdm"
   ]
  },
  {
   "cell_type": "code",
   "execution_count": 2,
   "metadata": {},
   "outputs": [
    {
     "name": "stderr",
     "output_type": "stream",
     "text": [
      "Found cached dataset nsmc (/Users/sudong/.cache/huggingface/datasets/nsmc/default/1.1.0/bfd4729bf1a67114e5267e6916b9e4807010aeb238e4a3c2b95fbfa3a014b5f3)\n"
     ]
    },
    {
     "data": {
      "application/vnd.jupyter.widget-view+json": {
       "model_id": "67821392bb9b47528abdcafa9a785972",
       "version_major": 2,
       "version_minor": 0
      },
      "text/plain": [
       "  0%|          | 0/2 [00:00<?, ?it/s]"
      ]
     },
     "metadata": {},
     "output_type": "display_data"
    },
    {
     "data": {
      "application/vnd.jupyter.widget-view+json": {
       "model_id": "0879d011ce88429eaccb2d334c2e8aa1",
       "version_major": 2,
       "version_minor": 0
      },
      "text/plain": [
       "  0%|          | 0/150 [00:00<?, ?ba/s]"
      ]
     },
     "metadata": {},
     "output_type": "display_data"
    },
    {
     "data": {
      "application/vnd.jupyter.widget-view+json": {
       "model_id": "2f2f3f38958544328e6c363cde1064fa",
       "version_major": 2,
       "version_minor": 0
      },
      "text/plain": [
       "  0%|          | 0/50 [00:00<?, ?ba/s]"
      ]
     },
     "metadata": {},
     "output_type": "display_data"
    },
    {
     "name": "stdout",
     "output_type": "stream",
     "text": [
      "['labels', 'input_ids', 'token_type_ids', 'attention_mask']\n"
     ]
    },
    {
     "name": "stderr",
     "output_type": "stream",
     "text": [
      "Some weights of the model checkpoint at monologg/koelectra-base-v3-generator were not used when initializing ElectraForSequenceClassification: ['generator_lm_head.weight', 'generator_predictions.dense.bias', 'generator_predictions.dense.weight', 'generator_predictions.LayerNorm.bias', 'generator_predictions.LayerNorm.weight', 'generator_lm_head.bias']\n",
      "- This IS expected if you are initializing ElectraForSequenceClassification from the checkpoint of a model trained on another task or with another architecture (e.g. initializing a BertForSequenceClassification model from a BertForPreTraining model).\n",
      "- This IS NOT expected if you are initializing ElectraForSequenceClassification from the checkpoint of a model that you expect to be exactly identical (initializing a BertForSequenceClassification model from a BertForSequenceClassification model).\n",
      "Some weights of ElectraForSequenceClassification were not initialized from the model checkpoint at monologg/koelectra-base-v3-generator and are newly initialized: ['classifier.out_proj.bias', 'classifier.out_proj.weight', 'classifier.dense.bias', 'classifier.dense.weight']\n",
      "You should probably TRAIN this model on a down-stream task to be able to use it for predictions and inference.\n",
      "/opt/homebrew/lib/python3.9/site-packages/transformers/optimization.py:306: FutureWarning: This implementation of AdamW is deprecated and will be removed in a future version. Use the PyTorch implementation torch.optim.AdamW instead, or set `no_deprecation_warning=True` to disable this warning\n",
      "  warnings.warn(\n"
     ]
    }
   ],
   "source": [
    "# 데이터 셋 적재\n",
    "raw_datasets = load_dataset(\"nsmc\")\n",
    "# 사전학습 언어모델 checkpoint 이름 지정\n",
    "checkpoint = \"monologg/koelectra-base-v3-generator\"\n",
    "# 지정된 사전학습 언어모델에서 토크나이저 인스턴스화\n",
    "tokenizer = AutoTokenizer.from_pretrained(checkpoint)\n",
    "\n",
    "\n",
    "# 토크나이저 함수 사용자 정의화 (sentence1, sentence2 컬럼에 대해서만 토크나이징 수행)\n",
    "def tokenize_function(example):\n",
    "    return tokenizer(example[\"document\"], truncation=True)\n",
    "\n",
    "\n",
    "# 토크나이징 수행\n",
    "tokenized_datasets = raw_datasets.map(tokenize_function, batched=True)\n",
    "# 배치(batch)별 패딩(padding)을 위한 data collator 정의\n",
    "data_collator = DataCollatorWithPadding(tokenizer=tokenizer)\n",
    "\n",
    "# 불필요한 입력 컬럼을 제거하고 사전학습 언어모델에 필요한 입력만 남김.\n",
    "tokenized_datasets = tokenized_datasets.remove_columns([\"id\", \"document\"])\n",
    "# 데이터셋의 label 컬럼명을 labels로 변경\n",
    "tokenized_datasets = tokenized_datasets.rename_column(\"label\", \"labels\")\n",
    "# 데이터셋의 유형을 PyTorch tensor로 변경\n",
    "tokenized_datasets.set_format(\"torch\")\n",
    "\n",
    "# 변경된 컬럼 출력\n",
    "print(tokenized_datasets[\"train\"].column_names)\n",
    "\n",
    "\n",
    "# 각 종류별 데이터 로더 생성\n",
    "train_dataloader = DataLoader(tokenized_datasets[\"train\"], \n",
    "                              shuffle=True, \n",
    "                              batch_size=64, \n",
    "                              collate_fn=data_collator)\n",
    "eval_dataloader = DataLoader(tokenized_datasets[\"test\"],\n",
    "                             shuffle=True,\n",
    "                             batch_size=64,\n",
    "                             collate_fn=data_collator)\n",
    "\n",
    "# 사전학습 언어모델 인스턴스화\n",
    "model = AutoModelForSequenceClassification.from_pretrained(checkpoint, num_labels=2)\n",
    "# 최적화 함수 정의\n",
    "optimizer = AdamW(model.parameters(), lr=5e-5)\n",
    "\n",
    "# 에포크 개수 설정\n",
    "num_epochs = 10\n",
    "# 학습 스텝 수 계산\n",
    "num_training_steps = num_epochs * len(train_dataloader)\n",
    "# 학습 스케쥴러 설정\n",
    "lr_scheduler = get_scheduler(\"linear\", optimizer=optimizer, num_warmup_steps=0, num_training_steps=num_training_steps)"
   ]
  },
  {
   "cell_type": "code",
   "execution_count": null,
   "metadata": {},
   "outputs": [],
   "source": [
    "# GPU로 모델을 이동\n",
    "device  = torch.device(\"mps\")\n",
    "model.to(device)\n",
    "\n",
    "# 진행 상황바 정의\n",
    "progress_bar = tqdm(range(num_training_steps))\n",
    "\n",
    "# 모델을 학습 모드로 전환\n",
    "model.train()\n",
    "# 학습 루프 시작\n",
    "for epoch in range(num_epochs):\n",
    "    for batch in train_dataloader:\n",
    "        # 현재 배치 중에서 입력값을 모두 GPU로 이동.\n",
    "        batch = {k: v.to(device) for k, v in batch.items()}\n",
    "        # 모델 실행\n",
    "        outputs = model(**batch)\n",
    "        # 손실값 가져오기\n",
    "        loss = outputs.loss\n",
    "        # 역전파 수행\n",
    "        loss.backward()\n",
    "\n",
    "        optimizer.step()\n",
    "        lr_scheduler.step()\n",
    "        optimizer.zero_grad()\n",
    "        progress_bar.update(1)"
   ]
  },
  {
   "cell_type": "code",
   "execution_count": null,
   "metadata": {},
   "outputs": [],
   "source": [
    "import sklearn\n",
    "#train_data\n",
    "# 평가 메트릭 가져오기\n",
    "model.to(device)\n",
    "metric = load_metric('accuracy')\n",
    "# 모델을 평가 모드로 전환\n",
    "model.eval()\n",
    "for batch in train_dataloader:\n",
    "    batch = {k: v.to(device) for k, v in batch.items()}\n",
    "    with torch.no_grad():\n",
    "        outputs = model(**batch)\n",
    "\n",
    "    logits = outputs.logits\n",
    "    predictions = torch.argmax(logits, dim=-1)\n",
    "    metric.add_batch(predictions=predictions, references=batch[\"labels\"])\n",
    "\n",
    "# 평가 결과 계산 및 출력 \n",
    "metric.compute()"
   ]
  },
  {
   "cell_type": "code",
   "execution_count": null,
   "metadata": {},
   "outputs": [],
   "source": [
    "#eval_data\n",
    "# 평가 메트릭 가져오기\n",
    "model.to(device)\n",
    "metric = load_metric('accuracy')\n",
    "# 모델을 평가 모드로 전환\n",
    "model.eval()\n",
    "for batch in eval_dataloader:\n",
    "    batch = {k: v.to(device) for k, v in batch.items()}\n",
    "    with torch.no_grad():\n",
    "        outputs = model(**batch)\n",
    "\n",
    "    logits = outputs.logits\n",
    "    predictions = torch.argmax(logits, dim=-1)\n",
    "    metric.add_batch(predictions=predictions, references=batch[\"labels\"])\n",
    "\n",
    "# 평가 결과 계산 및 출력 \n",
    "metric.compute()"
   ]
  },
  {
   "cell_type": "code",
   "execution_count": null,
   "metadata": {},
   "outputs": [],
   "source": [
    "#eval_data\n",
    "# 평가 메트릭 가져오기\n",
    "model.to(device)\n",
    "metric = load_metric('f1')\n",
    "# 모델을 평가 모드로 전환\n",
    "model.eval()\n",
    "for batch in eval_dataloader:\n",
    "    batch = {k: v.to(device) for k, v in batch.items()}\n",
    "    with torch.no_grad():\n",
    "        outputs = model(**batch)\n",
    "\n",
    "    logits = outputs.logits\n",
    "    predictions = torch.argmax(logits, dim=-1)\n",
    "    metric.add_batch(predictions=predictions, references=batch[\"labels\"])\n",
    "\n",
    "# 평가 결과 계산 및 출력 \n",
    "metric.compute()"
   ]
  },
  {
   "cell_type": "code",
   "execution_count": null,
   "metadata": {},
   "outputs": [],
   "source": [
    "# 모델 저장 변수 이름.save_pretrained(원하는 디렉토리) 형태\n",
    "model.save_pretrained('./models_param/model.pt')"
   ]
  },
  {
   "attachments": {},
   "cell_type": "markdown",
   "metadata": {},
   "source": [
    "<h1>데이터 평가</h1>"
   ]
  },
  {
   "cell_type": "code",
   "execution_count": 8,
   "metadata": {},
   "outputs": [
    {
     "name": "stdout",
     "output_type": "stream",
     "text": [
      "댓글 갯수 :  712\n"
     ]
    }
   ],
   "source": [
    "#데이터 불러오기\n",
    "dataset = pd.read_csv(\"new_crawling.csv\", index_col=0)\n",
    "test = [test for test in dataset[\"댓글내용\"]]\n",
    "print(\"댓글 갯수 : \",len(dataset[\"댓글내용\"]))\n",
    "# test"
   ]
  },
  {
   "cell_type": "code",
   "execution_count": 9,
   "metadata": {},
   "outputs": [],
   "source": [
    "from transformers import AutoTokenizer, AutoModelForSequenceClassification\n",
    "\n",
    "model = AutoModelForSequenceClassification.from_pretrained('./models_param/model.pt')\n",
    "tokenizer = AutoTokenizer.from_pretrained(\"monologg/koelectra-base-v3-generator\")\n",
    "\n"
   ]
  },
  {
   "cell_type": "code",
   "execution_count": 10,
   "metadata": {},
   "outputs": [],
   "source": [
    "from transformers import pipeline\n",
    "\n",
    "classifier = pipeline(\"sentiment-analysis\", model = model, tokenizer = tokenizer)"
   ]
  },
  {
   "cell_type": "code",
   "execution_count": 11,
   "metadata": {},
   "outputs": [
    {
     "name": "stdout",
     "output_type": "stream",
     "text": [
      "[{'label': 'LABEL_1', 'score': 0.9868239164352417}]\n",
      "[{'label': 'LABEL_1', 'score': 0.9988049268722534}]\n",
      "[{'label': 'LABEL_1', 'score': 0.9664960503578186}]\n",
      "[{'label': 'LABEL_1', 'score': 0.7861276865005493}]\n",
      "[{'label': 'LABEL_1', 'score': 0.9959944486618042}]\n",
      "[{'label': 'LABEL_0', 'score': 0.9991046786308289}]\n",
      "[{'label': 'LABEL_0', 'score': 0.996759831905365}]\n",
      "[{'label': 'LABEL_0', 'score': 0.9987032413482666}]\n",
      "[{'label': 'LABEL_0', 'score': 0.9994650483131409}]\n"
     ]
    }
   ],
   "source": [
    "#1차 예시 문장 확인\n",
    "#1 == pos , 0 == neg\n",
    "print(classifier(\"이 영화 진짜 재미있다.\"))\n",
    "print(classifier(\"다음에도 보고 싶은 영화였다\"))\n",
    "print(classifier(\"와 진짜 대박이다 영화 꿀잼이네\"))\n",
    "print(classifier(\"재미있긴 한데 좀 아쉽네...\"))\n",
    "print(classifier(\"진짜 멋져요\"))\n",
    "print(classifier(\"재미없진 않은데 나는 보통이다\"))\n",
    "print(classifier(\"그냥저냥 보통인데?\"))\n",
    "print(classifier(\"와 진짜 진짜 재미 없다\"))\n",
    "print(classifier(\"아 더빙 ...진짜 짜증나네 목소리\"))"
   ]
  },
  {
   "cell_type": "code",
   "execution_count": 12,
   "metadata": {},
   "outputs": [],
   "source": [
    "# classifier로 크롤링 데이터 긍부정 평가 진행\n",
    "answer_data = [classifier(answer_data) for answer_data in test]"
   ]
  },
  {
   "cell_type": "code",
   "execution_count": 13,
   "metadata": {},
   "outputs": [],
   "source": [
    "answer = [data for data in list(zip(test, answer_data))]"
   ]
  },
  {
   "cell_type": "code",
   "execution_count": 15,
   "metadata": {},
   "outputs": [
    {
     "data": {
      "text/plain": [
       "[('와 혼자 올라가기도힘든 한라산을 대박~!!!! 부모의힘이란 ㄷㄷ',\n",
       "  [{'label': 'LABEL_1', 'score': 0.999691367149353}]),\n",
       " ('엄마가 대단한거지 아이도 엄마와 함께하는것을좋아하고 있는데 누가 왈가왈부 할일이니?',\n",
       "  [{'label': 'LABEL_1', 'score': 0.9996069073677063}]),\n",
       " ('제발 오지랖 좀 그만ㅠ', [{'label': 'LABEL_0', 'score': 0.9872293472290039}]),\n",
       " ('응원해도 모자랄판에 비난이라니?? 이시영씨 진심으로 응원하며 엄마의 힘을 보여줘서 고마워요...',\n",
       "  [{'label': 'LABEL_1', 'score': 0.9997344613075256}]),\n",
       " ('대단허다', [{'label': 'LABEL_1', 'score': 0.932866096496582}]),\n",
       " ('부모로써 엄마로서 다 체크하고 등반했것지 무작정 올라갔것냐 불편러들이란',\n",
       "  [{'label': 'LABEL_0', 'score': 0.9958528280258179}]),\n",
       " ('이시영씨의 여러 도전과 시도를 좋게 보는데 이것은 안전불감증의 대표적 사례입니다.',\n",
       "  [{'label': 'LABEL_0', 'score': 0.9977779984474182}]),\n",
       " ('저정도하체단련이면 쩝', [{'label': 'LABEL_0', 'score': 0.9992414712905884}]),\n",
       " ('모르긴 몰라도 따라쟁이들 많은 대한민국에서 절대 따라하기 힘든일을 하는건 대단한듯하다. 독보적이다. 그러나 10번 물어 괜찮았지만, 11번째 물을때 날수도 있는게 사고니까 항상 안전하게 도전하기를.',\n",
       "  [{'label': 'LABEL_1', 'score': 0.9957457184791565}]),\n",
       " ('수퍼맘 이시영 지들 못하니까 질투하는거지 지들만 엄만가 엄마가 내아들을 제일 잘알지 화이팅 이시영',\n",
       "  [{'label': 'LABEL_1', 'score': 0.9982994198799133}]),\n",
       " ('넘 아이 걱정말고 자기 아이 잘 크고 있는지 체크하세요. 왜 넘일에 그렇게 아는척, 참견하는지요?',\n",
       "  [{'label': 'LABEL_0', 'score': 0.9979777932167053}]),\n",
       " ('세상 대단하다는 생각만 했었는데 이걸 거는인간들이 있었네 ㅋㅋ 그들도 한편으론 대단하다 진짜',\n",
       "  [{'label': 'LABEL_1', 'score': 0.7188549041748047}]),\n",
       " ('움직임없이 업혀만 있는 아이가 매우 추웠을듯..10월에도 정상에서 너무 추워 기절할뻔',\n",
       "  [{'label': 'LABEL_0', 'score': 0.9186336398124695}]),\n",
       " ('오지랖도 풍년일세..', [{'label': 'LABEL_0', 'score': 0.9996969699859619}]),\n",
       " ('부모만큼 자녀걱정하는 사람이 있을까요? 수많은 위험요소를 점검했을거고 무엇보다 이시영님은 평소 등산뿐만 아니라 달리기등 운동을 통해 체력이 대단하신 분입니다. 물론 겨울이라 미끄러울 수 있고 보는분에 따라 달리볼수 있습니다. 저도 7세아들이랑 걸어서 영실코스를 올라간적 있습니다. 시영님 봄,가을에 자녀와 함께 걸어서 가보셔요 ^^ 땀띠TV 잘보고 있습니다 언제나 응원합니다 화이팅!',\n",
       "  [{'label': 'LABEL_1', 'score': 0.9997199177742004}]),\n",
       " ('부러운걸 샘나서 까는 무지한 부모들! 부러우면 주둥아리나 놀리지 말던가! 한심한 부모 밑에서 크는 자식들은 얼마나 죽고 싶을까? ㅋ ㅋ',\n",
       "  [{'label': 'LABEL_1', 'score': 0.9944057464599609}]),\n",
       " ('니네 자식이나 똑바로 키워 ! 꼭 지 자식 확대하는것들이 나대들아! ㅋ',\n",
       "  [{'label': 'LABEL_0', 'score': 0.9990400671958923}]),\n",
       " ('잘했어!니맘데로사시고 알리지마세요!', [{'label': 'LABEL_0', 'score': 0.6095889806747437}]),\n",
       " ('아무리 기사를 읽어도 이시영 잘못한 걸 모르겠다 설령 감기나 동상이 들었어도 커가는 과정 아닐까? 시베리아 등반한 것도 아니고, 오지도 아닌데… 아이가 아프면 아프다고 얘기하겠지…',\n",
       "  [{'label': 'LABEL_0', 'score': 0.5231954455375671}]),\n",
       " ('엄마가 안간다는애 때려서 데리고 간것도 아닌데 뭐가 문제인지 모르겠네..',\n",
       "  [{'label': 'LABEL_0', 'score': 0.9990599751472473}]),\n",
       " (\"한라산은 기브스하고도 올라가본 산이라. 소위 '악'자 붙은 산들이나 지리산하고 비교하면 안됨. 세상엔 뭘해도 불편한 사람들이 있음\",\n",
       "  [{'label': 'LABEL_0', 'score': 0.9948766827583313}]),\n",
       " ('대단해요~~파이팅~~', [{'label': 'LABEL_1', 'score': 0.811069905757904}]),\n",
       " ('건강미가 늘 부럽네요~', [{'label': 'LABEL_0', 'score': 0.9478754997253418}]),\n",
       " ('뭐가 문젠디? 애ㅡ덜ㅡ방ㅡ치 하고 사는것들이 한둘이니?',\n",
       "  [{'label': 'LABEL_0', 'score': 0.9971877932548523}]),\n",
       " ('아무렴 자기부모보다 자식걱정 더 하는 사람 있을까? 문제의식이 지나친듯. 뭐가 문제야. 혼자보낸것도 아니고',\n",
       "  [{'label': 'LABEL_0', 'score': 0.9996480941772461}]),\n",
       " ('관심증? 주목받고시퍼? 좀 조용히 심플하게살면안된까? 피가 다르나?',\n",
       "  [{'label': 'LABEL_0', 'score': 0.9997312426567078}]),\n",
       " ('자랑스럽다. 안보이는 아동학대나 신경쓰삼',\n",
       "  [{'label': 'LABEL_0', 'score': 0.9995445609092712}]),\n",
       " ('엄마가 능력 되면 하는 거지 뭘 그리 걱정들을. 아들과 동반 등반을 소망하는 마음 잘 압니다. 저도 작년에 열한 살 아들과 북한산 정상에 올랐는데 너무 피곤했지만 정말 즐거웠어요. 아들이 도전 장신을 배울 수 있는 최고의 길이라고 생각해요, 시영씨 화이팅! 운동하는 엄마의 기쁨을 아는 동지입니다! :)',\n",
       "  [{'label': 'LABEL_1', 'score': 0.9997429251670837}]),\n",
       " ('업고가던 안고가던 우슨 상관이냐보기만 좋네',\n",
       "  [{'label': 'LABEL_0', 'score': 0.999710738658905}]),\n",
       " ('아이기억에 좋은추억으로 남겠다. 대단하세요.',\n",
       "  [{'label': 'LABEL_1', 'score': 0.9993385672569275}]),\n",
       " ('트집러들 정말!!', [{'label': 'LABEL_1', 'score': 0.9799505472183228}]),\n",
       " ('역시 이쁘니깐 디지맘들의 질투 타겟이 되는군. 지들은 살 디룩디룩 쪄서 뒷산도 못올라가는데 ㅋㅋ',\n",
       "  [{'label': 'LABEL_1', 'score': 0.9718431234359741}]),\n",
       " ('별걱정다한다 모지리들', [{'label': 'LABEL_0', 'score': 0.9996044039726257}]),\n",
       " ('남일에 콩나라팥나라 하냐.미친', [{'label': 'LABEL_0', 'score': 0.9994757771492004}]),\n",
       " ('애도참 애한테 10번물어본거를 걱정하는게아니잖아...그힘든도전과 특별한추억과 그과정이 대단하고 힘도장사고 다리에힘도 쎄고 척추힘도 수퍼맨이고 내아이랑 하나가되어 걷고 정상에 올라서 내아이와 함께 성취감을 맞이하고 성공에대해 박수와 칭찬을 보내는 사람들도있고 왜저래대체???하며 무공감하는 사람들도 있다는것을 받아들이면 인생이편타',\n",
       "  [{'label': 'LABEL_1', 'score': 0.9997147917747498}]),\n",
       " ('멋져요^^', [{'label': 'LABEL_1', 'score': 0.9948878884315491}]),\n",
       " ('뭘하든 부모의 생각이 중요하죠. 무엇보다 어떻게 아이를 업고 등산할 수 있는지가 대단하네요. 혼자 오르기도 힘들텐데ᆢ엄마는 자식과 꼭 같이 하고 싶은 게 있는 거죠~',\n",
       "  [{'label': 'LABEL_1', 'score': 0.9997511506080627}]),\n",
       " ('미국 호잇은 가장 위대한 아버지로 불리운다 그는 장애아들을 데리고 철인3종경주를 수도없이 완주했거든 이시영 욕하는 자들 논리면 호잇은 장애아들 학대자냐??',\n",
       "  [{'label': 'LABEL_1', 'score': 0.9334478378295898}]),\n",
       " ('대다나다. 이시영. 박수를 보냅니다..멋찐걸',\n",
       "  [{'label': 'LABEL_1', 'score': 0.8909130096435547}]),\n",
       " ('겨울이 아니었으면 이런이야기는 안나왔을듯ㅎ',\n",
       "  [{'label': 'LABEL_1', 'score': 0.9936275482177734}]),\n",
       " ('엄만데 남인 당신들보다 자식의안전을 생각안했을까',\n",
       "  [{'label': 'LABEL_0', 'score': 0.9982476234436035}]),\n",
       " ('응원합니다^^', [{'label': 'LABEL_1', 'score': 0.9912465214729309}]),\n",
       " ('엄마만큼 아이를 알까 ! 대단하고 이쁘기만 한데, 오지랍도 병 ! 헛소리는 부러움에 대한 다른표현인가 거기까지만하시지..',\n",
       "  [{'label': 'LABEL_0', 'score': 0.9931862354278564}]),\n",
       " ('나도 어릴땐 부모가 등산이던 뭐던 물어보면 다 좋다했지...지금 생각해보면 겁나 가기 싫었는데 말이지... 지금도 등산 특히 무서운 구름다리는 싫어하고',\n",
       "  [{'label': 'LABEL_1', 'score': 0.9994651675224304}]),\n",
       " ('굿', [{'label': 'LABEL_1', 'score': 0.9350718259811401}]),\n",
       " ('문제없다 끝', [{'label': 'LABEL_0', 'score': 0.9996242523193359}]),\n",
       " ('멋집니다. ^^**', [{'label': 'LABEL_1', 'score': 0.9971687197685242}]),\n",
       " ('나도 두째6개월때 관악산 올라감.뭐가 문젠데?',\n",
       "  [{'label': 'LABEL_1', 'score': 0.9992794394493103}]),\n",
       " ('문제될거 전혀 없다. 대단다고 박수쳐주고 싶구만.대체 뭐 이리 이상한 사람들이 많지.',\n",
       "  [{'label': 'LABEL_1', 'score': 0.9978677034378052}]),\n",
       " ('6세 아들에게 10번 물어봤다? 6세가 16세도 아니고 26세도 아니잖아. 6세는 엄마가는 곳에 함께 하고픈 마음과 생각이 젤 크지. 그게 기준인6세에게 10번물어봤다??? 이시영 다시보게 되네....',\n",
       "  [{'label': 'LABEL_1', 'score': 0.9996041655540466}])]"
      ]
     },
     "execution_count": 15,
     "metadata": {},
     "output_type": "execute_result"
    }
   ],
   "source": [
    "answer[200:250]"
   ]
  },
  {
   "cell_type": "code",
   "execution_count": 16,
   "metadata": {},
   "outputs": [],
   "source": [
    "#결과 csv파일 만들기.\n",
    "col = [\"댓글 내용\",\"긍부정 평가 결과\"]\n",
    "data_frame=pd.DataFrame(answer,columns=col)\n",
    "data_frame.to_csv(\"answer.csv\",mode='w',index = False)"
   ]
  },
  {
   "attachments": {},
   "cell_type": "markdown",
   "metadata": {},
   "source": [
    "<h1>Matplotlib을 활용한 산출 데이터 분석</h1>"
   ]
  },
  {
   "cell_type": "code",
   "execution_count": 17,
   "metadata": {},
   "outputs": [
    {
     "name": "stdout",
     "output_type": "stream",
     "text": [
      "364 348\n"
     ]
    }
   ],
   "source": [
    "answer[:5]\n",
    "\n",
    "len_positive = 0\n",
    "len_negative = 0\n",
    "neg_score = []\n",
    "pos_score = []\n",
    "for i in range(0, len(answer)):\n",
    "    if answer[i][1][0][\"label\"] == \"LABEL_1\":\n",
    "        len_positive+=1\n",
    "        pos_score.append(answer[i][1][0][\"score\"])\n",
    "    else:\n",
    "        len_negative+=1\n",
    "        neg_score.append(answer[i][1][0][\"score\"])\n",
    "print(len_positive, len_negative)\n",
    "\n"
   ]
  },
  {
   "cell_type": "code",
   "execution_count": 18,
   "metadata": {},
   "outputs": [
    {
     "data": {
      "image/png": "[encoded data removed]",
      "text/plain": [
       "<Figure size 640x480 with 1 Axes>"
      ]
     },
     "metadata": {},
     "output_type": "display_data"
    }
   ],
   "source": [
    "import matplotlib.pyplot as plt\n",
    "import numpy as np\n",
    "\n",
    "x = np.arange(2)\n",
    "name = ['positive', 'negative']\n",
    "values = [len_positive, len_negative]\n",
    "\n",
    "plt.bar(x, values)\n",
    "plt.xticks(x, name)\n",
    "\n",
    "plt.show()"
   ]
  },
  {
   "cell_type": "code",
   "execution_count": 19,
   "metadata": {},
   "outputs": [
    {
     "name": "stdout",
     "output_type": "stream",
     "text": [
      "0.9997658133506775\n",
      "0.5126985907554626\n",
      "0.999771773815155\n",
      "0.5132421851158142\n"
     ]
    }
   ],
   "source": [
    "print(max(neg_score))\n",
    "print(min(neg_score))\n",
    "print(max(pos_score))\n",
    "print(min(pos_score))\n"
   ]
  },
  {
   "cell_type": "code",
   "execution_count": 20,
   "metadata": {},
   "outputs": [],
   "source": [
    "pos1 = 0\n",
    "pos2 = 0\n",
    "pos3 = 0\n",
    "pos4 = 0\n",
    "pos5 = 0\n",
    "\n",
    "for i in pos_score:\n",
    "    if i >0.5 and i<=0.6:\n",
    "        pos1+=1\n",
    "    if i >0.6 and i<=0.7:\n",
    "        pos2+=1\n",
    "    if i >0.7 and i<=0.8:\n",
    "        pos3+=1\n",
    "    if i >0.8 and i<=0.9:\n",
    "        pos4+=1\n",
    "    if i>0.9 and i<=1:\n",
    "        pos5+=1\n",
    "neg1 = 0\n",
    "neg2 = 0\n",
    "neg3 = 0\n",
    "neg4 = 0\n",
    "neg5 = 0\n",
    "\n",
    "for i in neg_score:\n",
    "    if i >0.5 and i<=0.6:\n",
    "        neg1+=1\n",
    "    if i >0.6 and i<=0.7:\n",
    "        neg2+=1\n",
    "    if i >0.7 and i<=0.8:\n",
    "        neg3+=1\n",
    "    if i >0.8 and i<=0.9:\n",
    "        neg4+=1\n",
    "    if i>0.9 and i<=1:\n",
    "        neg5+=1"
   ]
  },
  {
   "cell_type": "code",
   "execution_count": 18,
   "metadata": {},
   "outputs": [
    {
     "name": "stdout",
     "output_type": "stream",
     "text": [
      "5 15 9 20 315\n",
      "364\n"
     ]
    }
   ],
   "source": [
    "print(pos1,pos2,pos3,pos4,pos5)\n",
    "print(pos1+pos2+pos3+pos4+pos5)"
   ]
  },
  {
   "cell_type": "code",
   "execution_count": 21,
   "metadata": {},
   "outputs": [
    {
     "data": {
      "image/png": "[encoded data removed]",
      "text/plain": [
       "<Figure size 640x480 with 1 Axes>"
      ]
     },
     "metadata": {},
     "output_type": "display_data"
    }
   ],
   "source": [
    "x = np.arange(5)\n",
    "name = ['0.5~0.6', '0.6~0.7','0.7~0.8','0.8~0.9','0.9~1.0']\n",
    "values = [pos1,pos2,pos3,pos4,pos5]\n",
    "\n",
    "plt.bar(x, values,label=\"positive\")\n",
    "plt.xticks(x, name)\n",
    "plt.legend()\n",
    "\n",
    "plt.show()"
   ]
  },
  {
   "cell_type": "code",
   "execution_count": 22,
   "metadata": {},
   "outputs": [
    {
     "data": {
      "image/png": "[encoded data removed]",
      "text/plain": [
       "<Figure size 640x480 with 1 Axes>"
      ]
     },
     "metadata": {},
     "output_type": "display_data"
    }
   ],
   "source": [
    "x = np.arange(5)\n",
    "name = ['0.5~0.6', '0.6~0.7','0.7~0.8','0.8~0.9','0.9~1.0']\n",
    "values = [neg1,neg2,neg3,neg4,neg5]\n",
    "\n",
    "plt.bar(x, values,label=\"negative\")\n",
    "plt.legend()\n",
    "plt.xticks(x, name)\n",
    "\n",
    "plt.show()"
   ]
  },
  {
   "cell_type": "code",
   "execution_count": null,
   "metadata": {},
   "outputs": [],
   "source": []
  }
 ],
 "metadata": {
  "kernelspec": {
   "display_name": "Python 3",
   "language": "python",
   "name": "python3"
  },
  "language_info": {
   "codemirror_mode": {
    "name": "ipython",
    "version": 3
   },
   "file_extension": ".py",
   "mimetype": "text/x-python",
   "name": "python",
   "nbconvert_exporter": "python",
   "pygments_lexer": "ipython3",
   "version": "3.9.13"
  },
  "orig_nbformat": 4,
  "vscode": {
   "interpreter": {
    "hash": "b0fa6594d8f4cbf19f97940f81e996739fb7646882a419484c72d19e05852a7e"
   }
  }
 },
 "nbformat": 4,
 "nbformat_minor": 2
}
